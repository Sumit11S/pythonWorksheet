{
  "nbformat": 4,
  "nbformat_minor": 0,
  "metadata": {
    "colab": {
      "provenance": []
    },
    "kernelspec": {
      "name": "python3",
      "display_name": "Python 3"
    },
    "language_info": {
      "name": "python"
    }
  },
  "cells": [
    {
      "cell_type": "markdown",
      "source": [
        "**Task 1. Classify Temperatures:**\n",
        "1. Create empty lists for temperature classifications:\n",
        "(a) Cold: temperatures below 10°C.\n",
        "(b) Mild: temperatures between 10°C and 15°C.\n",
        "(c) Comfortable: temperatures between 15°C and 20°C.\n",
        "2. Iterate over the temperatures list and add each temperature to the appropriate category.\n",
        "3. Print the lists to verify the classifications."
      ],
      "metadata": {
        "id": "JAVZwnjnOMhR"
      }
    },
    {
      "cell_type": "code",
      "execution_count": null,
      "metadata": {
        "colab": {
          "base_uri": "https://localhost:8080/"
        },
        "id": "sm53CUluvbt4",
        "outputId": "bdfa7561-2682-47d4-a401-58bd4fadc19a"
      },
      "outputs": [
        {
          "output_type": "stream",
          "name": "stdout",
          "text": [
            "Cold: [8.2, 7.9, 9.0, 8.5, 7.7, 8.4, 9.5, 8.1, 7.6, 8.0, 7.8, 8.7, 9.2, 8.3, 8.9, 7.8]\n",
            "Mild: [14.1, 13.5, 13.0, 12.9, 13.3, 14.0, 13.4, 14.2, 12.8, 13.7, 13.6, 13.8, 13.9, 12.7, 13.1, 12.5]\n",
            "Comfortable: [17.4, 18.0, 17.8, 16.5, 17.2, 16.7, 18.3, 17.9, 17.0, 16.8, 17.5, 17.1, 18.1, 16.4, 18.2, 16.6]\n"
          ]
        }
      ],
      "source": [
        "temperatures = [8.2, 17.4, 14.1, 7.9, 18.0, 13.5, 9.0, 17.8, 13.0, 8.5,\n",
        "16.5, 12.9, 7.7, 17.2, 13.3, 8.4, 16.7, 14.0, 9.5, 18.3, 13.4, 8.1,\n",
        "17.9, 14.2, 7.6, 17.0, 12.8, 8.0, 16.8, 13.7, 7.8, 17.5, 13.6, 8.7,\n",
        "17.1, 13.8, 9.2, 18.1, 13.9, 8.3, 16.4, 12.7, 8.9, 18.2, 13.1, 7.8,\n",
        "16.6, 12.5]\n",
        "\n",
        "cold = []\n",
        "mild = []\n",
        "comfortable = []\n",
        "\n",
        "for temperature in temperatures:\n",
        "  if temperature < 10:\n",
        "    cold.append(temperature)\n",
        "  elif temperature >= 10 and temperature <= 15:\n",
        "    mild.append(temperature)\n",
        "  else:\n",
        "    comfortable.append(temperature)\n",
        "\n",
        "print(f\"Cold: {cold}\")\n",
        "print(f\"Mild: {mild}\")\n",
        "print(f\"Comfortable: {comfortable}\")"
      ]
    },
    {
      "cell_type": "markdown",
      "source": [
        "**Task 2. Based on Data - Answer all the Questions:**\n",
        "1. How many times was it mild?\n",
        "(a) Hint: Count the number of items in the mild list and print the result.\n",
        "2. How many times was it comfortable?\n",
        "3. How many times was it cold?"
      ],
      "metadata": {
        "id": "NfcgWkqGOl9P"
      }
    },
    {
      "cell_type": "code",
      "source": [
        "print(f\"Number of mild days: {len(mild)}\")\n",
        "print(f\"Number of comfertable days: {len(comfortable)}\")\n",
        "print(f\"Number of cold days: {len(cold)}\")"
      ],
      "metadata": {
        "colab": {
          "base_uri": "https://localhost:8080/"
        },
        "id": "8n5bxeGIx2cd",
        "outputId": "bc706c52-3807-440a-8ca2-5f8f3eed3971"
      },
      "execution_count": null,
      "outputs": [
        {
          "output_type": "stream",
          "name": "stdout",
          "text": [
            "Number of mild days: 16\n",
            "Number of comfertable days: 16\n",
            "Number of cold days: 16\n"
          ]
        }
      ]
    },
    {
      "cell_type": "markdown",
      "source": [
        "**Task 3. Convert Temperatures from Celsius to Fahrenheit**\n",
        "\n",
        "Using the formula for temperature conversion, convert each reading from Celsius to Fahren-\n",
        "heit and store it in a new list called temperatures_fahrenheit.\n",
        "\n",
        "\n",
        "1. Iterate over the temperatures list and apply the formula to convert each temperature.\n",
        "2. Store the results in the new list.\n",
        "3. Print the converted Fahrenheit values."
      ],
      "metadata": {
        "id": "f8on0ctrO22p"
      }
    },
    {
      "cell_type": "code",
      "source": [
        "temperatures_in_farenheit = []\n",
        "\n",
        "for temperature in temperatures:\n",
        "  temperatures_in_farenheit.append(round(temperature * 1.8 + 32))\n",
        "\n",
        "print(temperatures_in_farenheit)\n"
      ],
      "metadata": {
        "colab": {
          "base_uri": "https://localhost:8080/"
        },
        "id": "-3Wk-pDUzJuY",
        "outputId": "7fc7ea4e-3e66-4e01-b7ee-00db0b6ca561"
      },
      "execution_count": null,
      "outputs": [
        {
          "output_type": "stream",
          "name": "stdout",
          "text": [
            "[47, 63, 57, 46, 64, 56, 48, 64, 55, 47, 62, 55, 46, 63, 56, 47, 62, 57, 49, 65, 56, 47, 64, 58, 46, 63, 55, 46, 62, 57, 46, 64, 56, 48, 63, 57, 49, 65, 57, 47, 62, 55, 48, 65, 56, 46, 62, 54]\n"
          ]
        }
      ]
    },
    {
      "cell_type": "markdown",
      "source": [
        "**Task 4. Analyze Temperature Patterns by Time of Day:**\n",
        "\n",
        "Scenario: Each day’s readings are grouped as:\n",
        "\n",
        "• Night (00-08),\n",
        "\n",
        "• Evening (08-16),\n",
        "\n",
        "• Day (16-24).\n",
        "1. Create empty lists for night, day, and evening temperatures.\n",
        "2. Iterate over the temperatures list, assigning values to each time-of-day list based on\n",
        "their position.\n",
        "3. Calculate and print the average day-time temperature."
      ],
      "metadata": {
        "id": "M1MagSRLPEb7"
      }
    },
    {
      "cell_type": "code",
      "source": [
        "night = []\n",
        "evening = []\n",
        "day = []\n",
        "\n",
        "for i in range(0,len(temperatures),3):\n",
        "  night.append(temperatures[i])\n",
        "  evening.append(temperatures[i+1])\n",
        "  day.append(temperatures[i+2])\n",
        "\n",
        "print(f\"Night temperatures: {night}\")\n",
        "print(f\"Evening temperatures: {evening}\")\n",
        "print(f\"Day temperatures: {day}\")\n",
        "\n",
        "print(\"--------------\")\n",
        "average_day_temperature = round(sum(day) / len(day))\n",
        "print(f\"Average day temperature: {average_day_temperature}\")\n",
        "\n",
        "\n"
      ],
      "metadata": {
        "colab": {
          "base_uri": "https://localhost:8080/"
        },
        "id": "ZB-Vn-KD0N5j",
        "outputId": "4ca6a6c2-78ca-42b0-979c-aa2a3c3998ac"
      },
      "execution_count": null,
      "outputs": [
        {
          "output_type": "stream",
          "name": "stdout",
          "text": [
            "Night temperatures: [8.2, 7.9, 9.0, 8.5, 7.7, 8.4, 9.5, 8.1, 7.6, 8.0, 7.8, 8.7, 9.2, 8.3, 8.9, 7.8]\n",
            "Evening temperatures: [17.4, 18.0, 17.8, 16.5, 17.2, 16.7, 18.3, 17.9, 17.0, 16.8, 17.5, 17.1, 18.1, 16.4, 18.2, 16.6]\n",
            "Day temperatures: [14.1, 13.5, 13.0, 12.9, 13.3, 14.0, 13.4, 14.2, 12.8, 13.7, 13.6, 13.8, 13.9, 12.7, 13.1, 12.5]\n",
            "--------------\n",
            "Average day temperature: 13\n"
          ]
        }
      ]
    },
    {
      "cell_type": "markdown",
      "source": [
        "**Exercise - Recursion:**\n",
        "\n",
        "Task 1 - Sum of Nested Lists:"
      ],
      "metadata": {
        "id": "VRtJTk4VPTtB"
      }
    },
    {
      "cell_type": "code",
      "source": [
        "def sum_nested_list(nested_list):\n",
        "  sum = 0\n",
        "  for element in nested_list:\n",
        "    if isinstance(element,list):\n",
        "      sum += sum_nested_list(element)\n",
        "    else:\n",
        "      sum += element\n",
        "  return sum\n",
        "\n",
        "nested_list_example = [1, [2, [3, 4], 5], 6, [7, 8]]\n",
        "print(sum_nested_list(nested_list_example))"
      ],
      "metadata": {
        "colab": {
          "base_uri": "https://localhost:8080/"
        },
        "id": "G-2dL2d-f99j",
        "outputId": "5424b31f-4d46-4bff-b1ec-7c59e8ae463e"
      },
      "execution_count": null,
      "outputs": [
        {
          "output_type": "stream",
          "name": "stdout",
          "text": [
            "36\n"
          ]
        }
      ]
    },
    {
      "cell_type": "markdown",
      "source": [
        "**Task 2 - Generate All Permutations of a String:**"
      ],
      "metadata": {
        "id": "dczahllPPrSp"
      }
    },
    {
      "cell_type": "code",
      "source": [
        "def generate_permutations(s):\n",
        "  if len(s) == 1:\n",
        "    return [s]\n",
        "\n",
        "  permutations = []\n",
        "  for i, char in enumerate(s):\n",
        "    remaining_chars = s[:i] + s[i+1:]\n",
        "    for permutation in generate_permutations(remaining_chars):\n",
        "      permutations.append(char + permutation)\n",
        "\n",
        "  return permutations\n",
        "\n",
        "s = \"abc\"\n",
        "permutations = generate_permutations(s)\n",
        "print(permutations)\n",
        "\n",
        "\n",
        "\n"
      ],
      "metadata": {
        "colab": {
          "base_uri": "https://localhost:8080/"
        },
        "id": "ZO6EoFyNhmzy",
        "outputId": "58c906f3-5dd0-4a54-cd96-0a1a7d5c57bc"
      },
      "execution_count": null,
      "outputs": [
        {
          "output_type": "stream",
          "name": "stdout",
          "text": [
            "['abc', 'acb', 'bac', 'bca', 'cab', 'cba']\n"
          ]
        }
      ]
    },
    {
      "cell_type": "markdown",
      "source": [
        "**Task 3 - Directory Size Calculation:**"
      ],
      "metadata": {
        "id": "Aasmz3JSPyt9"
      }
    },
    {
      "cell_type": "code",
      "source": [
        "def calculate_directory_size(directory):\n",
        "  total_size = 0\n",
        "  for item in directory.values():\n",
        "    if isinstance(item, dict):\n",
        "      total_size += calculate_directory_size(item)\n",
        "    else:\n",
        "      total_size += item\n",
        "  return total_size\n",
        "\n",
        "# Sample directory structure\n",
        "directory_structure = {\n",
        "    \"file1.txt\": 200,\n",
        "    \"file2.txt\": 300,\n",
        "    \"subdir1\": {\n",
        "        \"file3.txt\": 400,\n",
        "        \"file4.txt\": 100\n",
        "    },\n",
        "    \"subdir2\": {\n",
        "        \"subsubdir1\": {\n",
        "            \"file5.txt\": 250\n",
        "        },\n",
        "        \"file6.txt\": 150\n",
        "    }\n",
        "}\n",
        "\n",
        "# Calculate and print the total size\n",
        "directory_size = calculate_directory_size(directory_structure)\n",
        "print(directory_size)  # Expected output: 1400\n"
      ],
      "metadata": {
        "colab": {
          "base_uri": "https://localhost:8080/"
        },
        "id": "AyaFUc3Wpd7M",
        "outputId": "d07016fb-f474-4b9a-cb54-1358c901760a"
      },
      "execution_count": null,
      "outputs": [
        {
          "output_type": "stream",
          "name": "stdout",
          "text": [
            "1400\n"
          ]
        }
      ]
    },
    {
      "cell_type": "markdown",
      "source": [
        "**Exercises - Dynamic Programming:**\n",
        "\n",
        "Task 1 - Coin Change Problem:"
      ],
      "metadata": {
        "id": "In76ETvBP4Zb"
      }
    },
    {
      "cell_type": "code",
      "source": [
        "def min_coins(coins,amount):\n",
        "  dp = [float('inf')] * (amount + 1)\n",
        "  dp[0] = 0\n",
        "  for coin in coins:\n",
        "    for i in range(coin, amount + 1):\n",
        "      dp[i] = min(dp[i], dp[i - coin] + 1)\n",
        "  return dp[amount] if dp[amount] != float('inf') else -1\n",
        "\n",
        "coins = [1,2,5]\n",
        "amount = 11\n",
        "print(min_coins(coins,amount))"
      ],
      "metadata": {
        "colab": {
          "base_uri": "https://localhost:8080/"
        },
        "id": "bdOIyF6jfxgF",
        "outputId": "f40afb4b-f187-4e11-8bbf-c45d7ede5090"
      },
      "execution_count": null,
      "outputs": [
        {
          "output_type": "stream",
          "name": "stdout",
          "text": [
            "3\n"
          ]
        }
      ]
    },
    {
      "cell_type": "markdown",
      "source": [
        "**Task 2 - Longest Common Subsequence (LCS):**"
      ],
      "metadata": {
        "id": "LmX8P4rYQB5O"
      }
    },
    {
      "cell_type": "code",
      "source": [
        "def longest_common_subsequence(s1, s2):\n",
        "    # Lengths of the two strings\n",
        "    m, n = len(s1), len(s2)\n",
        "\n",
        "    # Initialize a DP table with dimensions (m+1) x (n+1) filled with 0\n",
        "    dp = [[0] * (n + 1) for _ in range(m + 1)]\n",
        "\n",
        "    # Fill the DP table\n",
        "    for i in range(1, m + 1):  # Iterate over characters of s1\n",
        "        for j in range(1, n + 1):  # Iterate over characters of s2\n",
        "            if s1[i - 1] == s2[j - 1]:  # Characters match\n",
        "                dp[i][j] = dp[i - 1][j - 1] + 1\n",
        "            else:  # Characters don't match\n",
        "                dp[i][j] = max(dp[i - 1][j], dp[i][j - 1])\n",
        "    return dp[m][n]\n",
        "\n",
        "# Test the function\n",
        "s1 = \"abcde\"\n",
        "s2 = \"ace\"\n",
        "print(longest_common_subsequence(s1, s2))  # Expected output: 3 (\"ace\")\n"
      ],
      "metadata": {
        "id": "Zyqg4p5HhZGz",
        "colab": {
          "base_uri": "https://localhost:8080/"
        },
        "outputId": "b26fe643-1423-4cdb-d6ac-6fded57a0106"
      },
      "execution_count": null,
      "outputs": [
        {
          "output_type": "stream",
          "name": "stdout",
          "text": [
            "3\n"
          ]
        }
      ]
    },
    {
      "cell_type": "markdown",
      "source": [
        "**Task 3 - 0/1 Knapsack Problem:**"
      ],
      "metadata": {
        "id": "bWnHsl5nQJQ1"
      }
    },
    {
      "cell_type": "code",
      "source": [
        "def knapsack(weights, values, capacity):\n",
        "    # Number of items\n",
        "    n = len(weights)\n",
        "\n",
        "    # Initialize a DP table with dimensions (n+1) x (capacity+1)\n",
        "    dp = [[0] * (capacity + 1) for _ in range(n + 1)]\n",
        "\n",
        "    # Fill the DP table\n",
        "    for i in range(1, n + 1):  # Loop through items\n",
        "        for w in range(1, capacity + 1):  # Loop through weight capacities\n",
        "            if weights[i - 1] <= w:  # If the current item can fit in the knapsack\n",
        "                # Take the maximum of including or excluding the current item\n",
        "                dp[i][w] = max(\n",
        "                    dp[i - 1][w],  # Exclude the item\n",
        "                    values[i - 1] + dp[i - 1][w - weights[i - 1]]  # Include the item\n",
        "                )\n",
        "            else:\n",
        "                dp[i][w] = dp[i - 1][w]  # Exclude the item if it doesn't fit\n",
        "\n",
        "    return dp[n][capacity]  # The bottom-right cell contains the maximum value\n",
        "\n",
        "# Test the function\n",
        "weights = [1, 3, 4, 5]\n",
        "values = [1, 4, 5, 7]\n",
        "capacity = 7\n",
        "print(knapsack(weights, values, capacity))  # Expected output: 9\n"
      ],
      "metadata": {
        "colab": {
          "base_uri": "https://localhost:8080/"
        },
        "id": "8jb1jdIqNgKb",
        "outputId": "16cc3999-8016-4069-c861-043d2672e4dc"
      },
      "execution_count": null,
      "outputs": [
        {
          "output_type": "stream",
          "name": "stdout",
          "text": [
            "9\n"
          ]
        }
      ]
    },
    {
      "cell_type": "code",
      "source": [],
      "metadata": {
        "id": "3Hxyx9-5ZmLy"
      },
      "execution_count": null,
      "outputs": []
    }
  ]
}